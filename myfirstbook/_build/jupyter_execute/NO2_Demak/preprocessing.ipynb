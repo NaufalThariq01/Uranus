{
 "cells": [
  {
   "cell_type": "markdown",
   "id": "d2bb143a",
   "metadata": {},
   "source": [
    "# Preprocessing Data"
   ]
  },
  {
   "cell_type": "markdown",
   "id": "fed8ae7d",
   "metadata": {},
   "source": [
    "## Missing Value"
   ]
  },
  {
   "cell_type": "code",
   "execution_count": 1,
   "id": "3fed3716",
   "metadata": {},
   "outputs": [
    {
     "name": "stdout",
     "output_type": "stream",
     "text": [
      "✅ File ditemukan: no2_results/timeseries.csv\n",
      "\n",
      "📊 Jumlah data hilang (missing values) sebelum interpolasi: 145\n",
      "📈 Jumlah data hilang setelah interpolasi: 0\n",
      "\n",
      "Ringkasan hasil interpolasi:\n",
      " - Total baris data : 395\n",
      " - Missing sebelum  : 145\n",
      " - Missing sesudah  : 0\n",
      " - Data berhasil dipulihkan: 145\n",
      "\n",
      "✅ Data hasil interpolasi disimpan sebagai 'no2_results/no2_interpolated_demak.csv'\n"
     ]
    }
   ],
   "source": [
    "# 1️⃣ Import library\n",
    "import os\n",
    "import pandas as pd\n",
    "\n",
    "# 2️⃣ Pastikan folder hasil ada\n",
    "os.makedirs(\"no2_results\", exist_ok=True)\n",
    "\n",
    "# 3️⃣ Baca data hasil unduhan (raw)\n",
    "file_path = \"no2_results/timeseries.csv\"\n",
    "\n",
    "if os.path.exists(file_path):\n",
    "    df = pd.read_csv(file_path)\n",
    "    print(f\"✅ File ditemukan: {file_path}\")\n",
    "else:\n",
    "    raise FileNotFoundError(f\"❌ File tidak ditemukan di {file_path}\")\n",
    "\n",
    "# 4️⃣ Cek jumlah missing value sebelum interpolasi\n",
    "missing_before = df[\"NO2\"].isnull().sum()\n",
    "print(f\"\\n📊 Jumlah data hilang (missing values) sebelum interpolasi: {missing_before}\")\n",
    "\n",
    "# 5️⃣ Pastikan kolom tanggal dalam format datetime\n",
    "df[\"date\"] = pd.to_datetime(df[\"date\"], errors=\"coerce\")\n",
    "\n",
    "# 6️⃣ Lakukan interpolasi linear untuk kolom NO2\n",
    "df[\"NO2\"] = df[\"NO2\"].interpolate(method=\"linear\")\n",
    "\n",
    "# 7️⃣ Hitung kembali jumlah missing setelah interpolasi\n",
    "missing_after = df[\"NO2\"].isnull().sum()\n",
    "print(f\"📈 Jumlah data hilang setelah interpolasi: {missing_after}\")\n",
    "\n",
    "# 8️⃣ Tampilkan ringkasan\n",
    "print(\"\\nRingkasan hasil interpolasi:\")\n",
    "print(f\" - Total baris data : {len(df)}\")\n",
    "print(f\" - Missing sebelum  : {missing_before}\")\n",
    "print(f\" - Missing sesudah  : {missing_after}\")\n",
    "print(f\" - Data berhasil dipulihkan: {missing_before - missing_after}\")\n",
    "\n",
    "# 9️⃣ Simpan hasil interpolasi ke file CSV baru\n",
    "output_path = \"no2_results/no2_interpolated_demak.csv\"\n",
    "df.to_csv(output_path, index=False)\n",
    "\n",
    "print(f\"\\n✅ Data hasil interpolasi disimpan sebagai '{output_path}'\")\n"
   ]
  },
  {
   "cell_type": "markdown",
   "id": "4576ac7a",
   "metadata": {},
   "source": [
    "## Membentuk Data Supervised menggunakan 2,3,4,5 Hari sebelumnya"
   ]
  },
  {
   "cell_type": "code",
   "execution_count": 2,
   "id": "7b7e93a0",
   "metadata": {},
   "outputs": [
    {
     "name": "stdout",
     "output_type": "stream",
     "text": [
      "✅ Data supervised dengan t1–t2 disimpan di: no2_results/day2.csv\n",
      "✅ Data supervised dengan t1–t3 disimpan di: no2_results/day3.csv\n",
      "✅ Data supervised dengan t1–t4 disimpan di: no2_results/day4.csv\n",
      "✅ Data supervised dengan t1–t5 disimpan di: no2_results/day5.csv\n",
      "\n",
      "📊 Contoh hasil day5:\n",
      "   feature_index       NO2        t1        t2        t3        t4        t5\n",
      "0              0  0.000025  0.000026  0.000031  0.000027  0.000029  0.000025\n",
      "1              0  0.000018  0.000025  0.000026  0.000031  0.000027  0.000029\n",
      "2              0  0.000026  0.000018  0.000025  0.000026  0.000031  0.000027\n",
      "3              0  0.000022  0.000026  0.000018  0.000025  0.000026  0.000031\n",
      "4              0  0.000018  0.000022  0.000026  0.000018  0.000025  0.000026\n"
     ]
    }
   ],
   "source": [
    "# 1️⃣ Import library\n",
    "import pandas as pd\n",
    "import os\n",
    "\n",
    "# 2️⃣ Pastikan folder hasil ada\n",
    "os.makedirs(\"no2_results\", exist_ok=True)\n",
    "\n",
    "# 3️⃣ Baca data interpolasi NO2\n",
    "file_path = \"no2_results/no2_interpolated_demak.csv\"\n",
    "new_df = pd.read_csv(file_path)\n",
    "\n",
    "# 4️⃣ Pastikan urutan waktu benar\n",
    "new_df = new_df.sort_values(\"date\").reset_index(drop=True)\n",
    "\n",
    "# 5️⃣ Hapus kolom tanggal (hanya pakai nilai NO2)\n",
    "new_df = new_df.drop(columns=['date'])\n",
    "\n",
    "# 6️⃣ Buat list untuk menyimpan hasil tiap lag\n",
    "lag_list = [2, 3, 4, 5]\n",
    "lag_dataframes = {}\n",
    "\n",
    "# 7️⃣ Loop membuat data supervised untuk tiap lag\n",
    "for n in lag_list:\n",
    "    df_lag = new_df.copy()\n",
    "    for i in range(1, n + 1):\n",
    "        df_lag[f\"t{i}\"] = df_lag[\"NO2\"].shift(i)\n",
    "    df_lag = df_lag.dropna().reset_index(drop=True)\n",
    "    \n",
    "    # Simpan ke dictionary & file\n",
    "    lag_dataframes[n] = df_lag\n",
    "    output_path = f\"no2_results/day{n}.csv\"\n",
    "    df_lag.to_csv(output_path, index=False)\n",
    "    print(f\"✅ Data supervised dengan t1–t{n} disimpan di: {output_path}\")\n",
    "\n",
    "# 8️⃣ Contoh tampilkan salah satu hasil (misal lag 5)\n",
    "print(\"\\n📊 Contoh hasil day5:\")\n",
    "print(lag_dataframes[5].head())\n"
   ]
  },
  {
   "cell_type": "markdown",
   "id": "b4f4048e",
   "metadata": {},
   "source": [
    "### Memprediksi 3 hari kedepan"
   ]
  },
  {
   "cell_type": "code",
   "execution_count": 3,
   "id": "3261923b",
   "metadata": {},
   "outputs": [
    {
     "name": "stdout",
     "output_type": "stream",
     "text": [
      "✅ Data supervised (lag 2, forecast 3 hari) disimpan di: no2_results/day2_forecast3.csv\n",
      "✅ Data supervised (lag 3, forecast 3 hari) disimpan di: no2_results/day3_forecast3.csv\n",
      "✅ Data supervised (lag 4, forecast 3 hari) disimpan di: no2_results/day4_forecast3.csv\n",
      "✅ Data supervised (lag 5, forecast 3 hari) disimpan di: no2_results/day5_forecast3.csv\n",
      "\n",
      "📊 Contoh hasil day5 (prediksi 3 hari ke depan):\n",
      "   feature_index       NO2        t1        t2        t3        t4        t5  \\\n",
      "0              0  0.000025  0.000026  0.000031  0.000027  0.000029  0.000025   \n",
      "1              0  0.000018  0.000025  0.000026  0.000031  0.000027  0.000029   \n",
      "2              0  0.000026  0.000018  0.000025  0.000026  0.000031  0.000027   \n",
      "3              0  0.000022  0.000026  0.000018  0.000025  0.000026  0.000031   \n",
      "4              0  0.000018  0.000022  0.000026  0.000018  0.000025  0.000026   \n",
      "\n",
      "    NO2_t+1   NO2_t+2   NO2_t+3  \n",
      "0  0.000018  0.000026  0.000022  \n",
      "1  0.000026  0.000022  0.000018  \n",
      "2  0.000022  0.000018  0.000016  \n",
      "3  0.000018  0.000016  0.000031  \n",
      "4  0.000016  0.000031  0.000024  \n"
     ]
    }
   ],
   "source": [
    "# 1️⃣ Import library\n",
    "import pandas as pd\n",
    "import os\n",
    "\n",
    "# 2️⃣ Pastikan folder hasil ada\n",
    "os.makedirs(\"no2_results\", exist_ok=True)\n",
    "\n",
    "# 3️⃣ Baca data interpolasi NO2\n",
    "file_path = \"no2_results/no2_interpolated_demak.csv\"\n",
    "new_df = pd.read_csv(file_path)\n",
    "\n",
    "# 4️⃣ Pastikan urutan waktu benar\n",
    "new_df = new_df.sort_values(\"date\").reset_index(drop=True)\n",
    "\n",
    "# 5️⃣ Hapus kolom tanggal (hanya pakai nilai NO2)\n",
    "new_df = new_df.drop(columns=['date'])\n",
    "\n",
    "# 6️⃣ Buat list untuk menyimpan hasil tiap lag\n",
    "lag_list = [2, 3, 4, 5]\n",
    "lag_dataframes = {}\n",
    "\n",
    "# 7️⃣ Loop membuat data supervised multi-step untuk tiap lag\n",
    "for n in lag_list:\n",
    "    df_lag = new_df.copy()\n",
    "    \n",
    "    # Buat kolom lag (t1, t2, ..., tn)\n",
    "    for i in range(1, n + 1):\n",
    "        df_lag[f\"t{i}\"] = df_lag[\"NO2\"].shift(i)\n",
    "    \n",
    "    # Tambahkan kolom target untuk 3 hari ke depan\n",
    "    for j in range(1, 4):\n",
    "        df_lag[f\"NO2_t+{j}\"] = df_lag[\"NO2\"].shift(-j)\n",
    "    \n",
    "    # Hapus baris kosong akibat shift\n",
    "    df_lag = df_lag.dropna().reset_index(drop=True)\n",
    "    \n",
    "    # Simpan ke dictionary & file\n",
    "    lag_dataframes[n] = df_lag\n",
    "    output_path = f\"no2_results/day{n}_forecast3.csv\"\n",
    "    df_lag.to_csv(output_path, index=False)\n",
    "    print(f\"✅ Data supervised (lag {n}, forecast 3 hari) disimpan di: {output_path}\")\n",
    "\n",
    "# 8️⃣ Contoh tampilkan salah satu hasil (misal lag 5)\n",
    "print(\"\\n📊 Contoh hasil day5 (prediksi 3 hari ke depan):\")\n",
    "print(lag_dataframes[5].head())\n"
   ]
  }
 ],
 "metadata": {
  "kernelspec": {
   "display_name": "Python 3",
   "language": "python",
   "name": "python3"
  },
  "language_info": {
   "codemirror_mode": {
    "name": "ipython",
    "version": 3
   },
   "file_extension": ".py",
   "mimetype": "text/x-python",
   "name": "python",
   "nbconvert_exporter": "python",
   "pygments_lexer": "ipython3",
   "version": "3.10.11"
  }
 },
 "nbformat": 4,
 "nbformat_minor": 5
}